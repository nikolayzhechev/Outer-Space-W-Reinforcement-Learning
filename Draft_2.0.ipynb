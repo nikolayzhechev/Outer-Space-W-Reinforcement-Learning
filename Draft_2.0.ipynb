{
 "cells": [
  {
   "cell_type": "markdown",
   "id": "01caca51-8e5e-49c2-b2c0-b0ec9d6a7f51",
   "metadata": {},
   "source": [
    "In Draft, tested were a few approaches, however Basilisk and Basilisk reinforecement learning environment were not stable, prone to errors and were difficult to configure. Continuing with a second approach: implementing a custom spacecraft reincforecemtn learning environemnt.\n",
    "\n",
    "Using Gymnasium docs: https://gymnasium.farama.org/introduction/create_custom_env/"
   ]
  },
  {
   "cell_type": "code",
   "execution_count": 1,
   "id": "fa51150a-cded-4422-9ce7-20bd611295eb",
   "metadata": {},
   "outputs": [],
   "source": [
    "# imports\n",
    "import numpy as np\n",
    "import gymnasium as gym\n",
    "from gymnasium import spaces"
   ]
  },
  {
   "cell_type": "markdown",
   "id": "725be2a2-9308-4086-8c11-a4a7fd0e06d9",
   "metadata": {},
   "source": [
    "#### Custom Gym Environment Arhcitecture\n",
    "- compute environment state into observation;\n",
    "- `reset()` function to initiate a new episode for the environment;\n",
    "- `step()` to compute the new state of the environment;\n",
    "\n",
    "\n",
    "When will a reward be given? \n",
    "- spacecraft's target destination;\n",
    "\n",
    "When will termination occure?\n",
    "- loss of fuel;\n",
    "- collision with another object;\n",
    "- error in path resulting to the final destination being impossible to reach;\n",
    "\n",
    "Agent Goals:\n",
    "- Landing: Soft-landing on a planetary surface;\n",
    "- Interplanetary Transfer: Navigating from one celestial body to another;\n",
    "- Orbit Change: Transitioning between different orbits efficiently;"
   ]
  },
  {
   "cell_type": "markdown",
   "id": "0cb03804-5b16-4d6e-8251-43bfa8eb0896",
   "metadata": {},
   "source": [
    "Inherit base `Gym` environment to define custom environment  \n",
    "Define observation"
   ]
  },
  {
   "cell_type": "markdown",
   "id": "a416b456-63b2-4832-a27a-591c8af745ca",
   "metadata": {},
   "source": [
    "#### Implementation"
   ]
  },
  {
   "cell_type": "code",
   "execution_count": null,
   "id": "45f0f062-088e-475b-b7a3-d2be62e3f9c2",
   "metadata": {},
   "outputs": [],
   "source": []
  },
  {
   "cell_type": "markdown",
   "id": "ad9da8c5-ab53-46ab-92df-de5c6ecfc1b4",
   "metadata": {},
   "source": [
    "#### Training and Evaluation"
   ]
  },
  {
   "cell_type": "code",
   "execution_count": null,
   "id": "4b28cc36-acbe-4cb8-a55b-de3a30b11464",
   "metadata": {},
   "outputs": [],
   "source": []
  }
 ],
 "metadata": {
  "kernelspec": {
   "display_name": "Python 3.10 (global)",
   "language": "python",
   "name": "python310"
  },
  "language_info": {
   "codemirror_mode": {
    "name": "ipython",
    "version": 3
   },
   "file_extension": ".py",
   "mimetype": "text/x-python",
   "name": "python",
   "nbconvert_exporter": "python",
   "pygments_lexer": "ipython3",
   "version": "3.10.10"
  }
 },
 "nbformat": 4,
 "nbformat_minor": 5
}
