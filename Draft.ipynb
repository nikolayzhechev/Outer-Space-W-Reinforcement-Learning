{
 "cells": [
  {
   "cell_type": "code",
   "execution_count": 1,
   "id": "1f2b0bfa-5844-4e5c-94b4-61f4db62fbd8",
   "metadata": {
    "editable": true,
    "slideshow": {
     "slide_type": ""
    },
    "tags": []
   },
   "outputs": [
    {
     "name": "stdout",
     "output_type": "stream",
     "text": [
      "['C:\\\\Users\\\\zhech\\\\AppData\\\\Local\\\\Programs\\\\Python\\\\Python310\\\\python310.zip', 'C:\\\\Users\\\\zhech\\\\AppData\\\\Local\\\\Programs\\\\Python\\\\Python310\\\\DLLs', 'C:\\\\Users\\\\zhech\\\\AppData\\\\Local\\\\Programs\\\\Python\\\\Python310\\\\lib', 'C:\\\\Users\\\\zhech\\\\AppData\\\\Local\\\\Programs\\\\Python\\\\Python310', '', 'C:\\\\Users\\\\zhech\\\\AppData\\\\Roaming\\\\Python\\\\Python310\\\\site-packages', 'C:\\\\Users\\\\zhech\\\\AppData\\\\Local\\\\Programs\\\\Python\\\\Python310\\\\lib\\\\site-packages', 'C:\\\\Program Files\\\\Basilisk\\\\bsk_rl\\\\src', 'C:\\\\Users\\\\zhech\\\\AppData\\\\Local\\\\Programs\\\\Python\\\\Python310\\\\lib\\\\site-packages\\\\win32', 'C:\\\\Users\\\\zhech\\\\AppData\\\\Local\\\\Programs\\\\Python\\\\Python310\\\\lib\\\\site-packages\\\\win32\\\\lib', 'C:\\\\Users\\\\zhech\\\\AppData\\\\Local\\\\Programs\\\\Python\\\\Python310\\\\lib\\\\site-packages\\\\Pythonwin']\n",
      "PettingZoo version: 1.24.3\n"
     ]
    }
   ],
   "source": [
    "# confirm Python 3 paths and versions due to multiple environments\n",
    "import sys\n",
    "print(sys.path)\n",
    "import pettingzoo\n",
    "print(\"PettingZoo version:\", pettingzoo.__version__)"
   ]
  },
  {
   "cell_type": "markdown",
   "id": "2018e842-8d4c-433e-a0f7-55777bfb0ab6",
   "metadata": {},
   "source": [
    "#### Initial Concept and Idea\n",
    "Create a reinforcement learning agent that can navigate in space.  \n",
    "Requires an environment and a defined agent with actions.\n",
    "\n",
    "#### What to consider?\n",
    "Specifics of space navigation and spacecrafts.  \n",
    "Agent policy and reward. "
   ]
  },
  {
   "cell_type": "markdown",
   "id": "1a0a5bfb-3762-477e-8d4d-de61d21cc275",
   "metadata": {},
   "source": [
    "Q-Learning notes:  \n",
    "$$ Q*() $$"
   ]
  },
  {
   "cell_type": "markdown",
   "id": "7fadcbdc-31ef-4d6d-8451-9fc8ddaadb4e",
   "metadata": {},
   "source": [
    "#### Test gym library for RL.\n",
    "Set up gym with basilisk environment and all imports. Test config and library set up. Perform initil test from the official docs."
   ]
  },
  {
   "cell_type": "code",
   "execution_count": 2,
   "id": "b8d5e451-c229-49e3-aeb2-2b5f79bba052",
   "metadata": {
    "editable": true,
    "slideshow": {
     "slide_type": ""
    },
    "tags": []
   },
   "outputs": [
    {
     "data": {
      "text/plain": [
       "'2.40.0'"
      ]
     },
     "execution_count": 2,
     "metadata": {},
     "output_type": "execute_result"
    }
   ],
   "source": [
    "%matplotlib inline\n",
    "\n",
    "import subprocess\n",
    "import sys\n",
    "from io import StringIO\n",
    "import matplotlib.pyplot as plt\n",
    "\n",
    "import gymnasium as gym\n",
    "import numpy as np\n",
    "from bsk_rl import act, data, obs, scene, sats\n",
    "from bsk_rl.sim import dyn, fsw\n",
    "\n",
    "from Basilisk.architecture import bskLogging\n",
    "bskLogging.setDefaultLogLevel(bskLogging.BSK_WARNING)\n",
    "\n",
    "from stable_baselines3 import PPO\n",
    "from stable_baselines3.common.env_util import make_vec_env\n",
    "from stable_baselines3.common.evaluation import evaluate_policy\n",
    "\n",
    "from importlib.metadata import version\n",
    "version(\"ray\")"
   ]
  },
  {
   "cell_type": "markdown",
   "id": "261c0233-a884-4540-a6a1-a0d090eef793",
   "metadata": {
    "editable": true,
    "slideshow": {
     "slide_type": ""
    },
    "tags": []
   },
   "source": [
    "Gymnasium API: https://github.com/Farama-Foundation/Gymnasium  \n",
    "BSK-RL API: https://avslab.github.io/bsk_rl/examples/simple_environment.html  \n",
    "RLlib: https://docs.ray.io/en/latest/ray-overview/index.html"
   ]
  },
  {
   "cell_type": "markdown",
   "id": "b1889785-c47a-4988-8aa5-c2720d786502",
   "metadata": {
    "editable": true,
    "slideshow": {
     "slide_type": ""
    },
    "tags": []
   },
   "source": [
    "In this case the satellite is the agent. We get the custom gym environemnt which in this case is the Basilisc RL environment. Documentation test implementation:"
   ]
  },
  {
   "cell_type": "code",
   "execution_count": 3,
   "id": "4d595fe5-edd8-45e3-9f41-c42c5be6a158",
   "metadata": {
    "editable": true,
    "slideshow": {
     "slide_type": ""
    },
    "tags": []
   },
   "outputs": [],
   "source": [
    "class MyScanningSatellite(sats.AccessSatellite):\n",
    "    observation_spec = [\n",
    "        obs.SatProperties(\n",
    "            dict(prop=\"storage_level_fraction\"),\n",
    "            dict(prop=\"battery_charge_fraction\")\n",
    "        ),\n",
    "        obs.Eclipse(),\n",
    "    ]\n",
    "    action_spec = [\n",
    "        act.Scan(duration=60.0),  # Scan for 1 minute\n",
    "        act.Charge(duration=600.0),  # Charge for 10 minutes\n",
    "    ]\n",
    "    dyn_type = dyn.ContinuousImagingDynModel\n",
    "    fsw_type = fsw.ContinuousImagingFSWModel"
   ]
  },
  {
   "cell_type": "code",
   "execution_count": 4,
   "id": "4042ce15-bc13-4808-b1b4-31d2ca792219",
   "metadata": {
    "editable": true,
    "slideshow": {
     "slide_type": ""
    },
    "tags": []
   },
   "outputs": [
    {
     "data": {
      "text/plain": [
       "{'hs_min': 0.0,\n",
       " 'maxCounterValue': 4,\n",
       " 'thrMinFireTime': 0.02,\n",
       " 'desatAttitude': 'sun',\n",
       " 'controlAxes_B': [1, 0, 0, 0, 1, 0, 0, 0, 1],\n",
       " 'thrForceSign': 1,\n",
       " 'K': 7.0,\n",
       " 'Ki': -1,\n",
       " 'P': 35.0,\n",
       " 'imageAttErrorRequirement': 0.01,\n",
       " 'imageRateErrorRequirement': None,\n",
       " 'inst_pHat_B': [0, 0, 1],\n",
       " 'utc_init': 'this value will be set by the world model',\n",
       " 'batteryStorageCapacity': 288000.0,\n",
       " 'storedCharge_Init': <function bsk_rl.sim.dyn.BasicDynamicsModel.<lambda>()>,\n",
       " 'disturbance_vector': None,\n",
       " 'dragCoeff': 2.2,\n",
       " 'imageTargetMaximumRange': -1,\n",
       " 'instrumentBaudRate': 8000000.0,\n",
       " 'instrumentPowerDraw': -30.0,\n",
       " 'basePowerDraw': 0.0,\n",
       " 'wheelSpeeds': <function bsk_rl.sim.dyn.BasicDynamicsModel.<lambda>()>,\n",
       " 'maxWheelSpeed': inf,\n",
       " 'u_max': 0.2,\n",
       " 'rwBasePower': 0.4,\n",
       " 'rwMechToElecEfficiency': 0.0,\n",
       " 'rwElecToMechEfficiency': 0.5,\n",
       " 'panelArea': 1.0,\n",
       " 'panelEfficiency': 0.2,\n",
       " 'nHat_B': array([ 0,  0, -1]),\n",
       " 'mass': 330,\n",
       " 'width': 1.38,\n",
       " 'depth': 1.04,\n",
       " 'height': 1.58,\n",
       " 'sigma_init': <function bsk_rl.sim.dyn.BasicDynamicsModel.<lambda>()>,\n",
       " 'omega_init': <function bsk_rl.sim.dyn.BasicDynamicsModel.<lambda>()>,\n",
       " 'rN': None,\n",
       " 'vN': None,\n",
       " 'oe': <function bsk_rl.utils.orbital.random_orbit(i: Optional[float] = 45.0, alt: float = 500, r_body: float = 6371, e: float = 0, Omega: Optional[float] = None, omega: Optional[float] = 0, f: Optional[float] = None) -> Basilisk.utilities.orbitalMotion.ClassicElements>,\n",
       " 'mu': 398600436000000.0,\n",
       " 'dataStorageCapacity': 160000000.0,\n",
       " 'storageUnitValidCheck': False,\n",
       " 'storageInit': 0,\n",
       " 'thrusterPowerDraw': 0.0,\n",
       " 'transmitterBaudRate': -8000000.0,\n",
       " 'transmitterNumBuffers': 100,\n",
       " 'transmitterPowerDraw': -15.0}"
      ]
     },
     "execution_count": 4,
     "metadata": {},
     "output_type": "execute_result"
    }
   ],
   "source": [
    "MyScanningSatellite.default_sat_args()"
   ]
  },
  {
   "cell_type": "code",
   "execution_count": 5,
   "id": "b42d8d08-5d20-4782-a629-b4e604724551",
   "metadata": {
    "editable": true,
    "slideshow": {
     "slide_type": ""
    },
    "tags": []
   },
   "outputs": [],
   "source": [
    "sat_args = {}\n",
    "\n",
    "# Set some parameters as constants\n",
    "sat_args[\"imageAttErrorRequirement\"] = 0.05\n",
    "sat_args[\"dataStorageCapacity\"] = 1e10\n",
    "sat_args[\"instrumentBaudRate\"] = 1e7\n",
    "sat_args[\"storedCharge_Init\"] = 50000.0\n",
    "\n",
    "# Randomize the initial storage level on every reset\n",
    "sat_args[\"storageInit\"] = lambda: np.random.uniform(0.25, 0.75) * 1e10\n",
    "\n",
    "# Make the satellite\n",
    "sat = MyScanningSatellite(name=\"EO1\", sat_args=sat_args)"
   ]
  },
  {
   "cell_type": "markdown",
   "id": "0029645a-93eb-4a06-8a78-2c77d1741570",
   "metadata": {
    "editable": true,
    "slideshow": {
     "slide_type": ""
    },
    "tags": []
   },
   "source": [
    "Create the environment with scenario and reward. Reward: https://avslab.github.io/bsk_rl/api_reference/data/index.html"
   ]
  },
  {
   "cell_type": "code",
   "execution_count": null,
   "id": "cb58646c-745d-4850-9507-eda1a98e7928",
   "metadata": {
    "editable": true,
    "slideshow": {
     "slide_type": ""
    },
    "tags": []
   },
   "outputs": [
    {
     "name": "stderr",
     "output_type": "stream",
     "text": [
      "\u001b[90;3m2025-01-30 20:34:22,213 \u001b[0m\u001b[mgym                            \u001b[0m\u001b[mINFO       \u001b[0m\u001b[mCalling env.reset() to get observation space\u001b[0m\n",
      "\u001b[90;3m2025-01-30 20:34:22,214 \u001b[0m\u001b[mgym                            \u001b[0m\u001b[mINFO       \u001b[0m\u001b[mResetting environment with seed=3369407596\u001b[0m\n"
     ]
    }
   ],
   "source": [
    "env = gym.make(\n",
    "    \"SatelliteTasking-v1\",\n",
    "    satellite=sat,\n",
    "    scenario=scene.UniformNadirScanning(),\n",
    "    rewarder=data.ScanningTimeReward(),\n",
    "    time_limit=5700.0,  # approximately 1 orbit\n",
    "    log_level=\"INFO\",\n",
    ")"
   ]
  },
  {
   "cell_type": "code",
   "execution_count": null,
   "id": "dfac864f-c098-4770-a690-2e3210de22a5",
   "metadata": {},
   "outputs": [],
   "source": [
    "env = make_vec_env(\n",
    "    lambda: gym.make(\n",
    "        \"SatelliteTasking-v1\",\n",
    "        satellite=sat,\n",
    "        scenario=scene.UniformNadirScanning(),\n",
    "        rewarder=data.ScanningTimeReward(),\n",
    "        time_limit=1000.0,\n",
    "        log_level=\"INFO\",\n",
    "    ),\n",
    "    n_envs=2,  # Use parallel environments\n",
    ")"
   ]
  },
  {
   "cell_type": "code",
   "execution_count": null,
   "id": "ad668dac-e35f-4e90-8bbe-f886039ae3bc",
   "metadata": {},
   "outputs": [],
   "source": [
    "observation, info = env.reset(seed=1)"
   ]
  },
  {
   "cell_type": "code",
   "execution_count": null,
   "id": "fd4ac8cb-fe5a-4f54-ad18-1833d731753d",
   "metadata": {},
   "outputs": [],
   "source": [
    "print(\"Initial data level:\", observation[0], \"(randomized by sat_args)\")\n",
    "for _ in range(3):\n",
    "    observation, reward, terminated, truncated, info = env.step(action=0)\n",
    "print(\"  Final data level:\", observation[0])"
   ]
  },
  {
   "cell_type": "code",
   "execution_count": null,
   "id": "772dde8b-71dd-43d7-9b40-edca87fd8c62",
   "metadata": {},
   "outputs": [],
   "source": [
    "while not truncated:\n",
    "    observation, reward, terminated, truncated, info = env.step(action=1)\n",
    "    print(f\"Charge level: {observation[1]:.3f} ({env.unwrapped.simulator.sim_time:.1f} seconds)\\n\\tEclipse: start: {observation[2]:.1f} end: {observation[3]:.1f}\")"
   ]
  },
  {
   "cell_type": "code",
   "execution_count": null,
   "id": "d6a463da-a442-452d-8758-6a7e6f41345c",
   "metadata": {},
   "outputs": [],
   "source": [
    "!python basilisk-develop\\examples\\scenarioFuelSlosh.py\n",
    "# runs correctly but doesn't render plots directlty here"
   ]
  },
  {
   "attachments": {
    "964e43f9-4af1-4d8b-8390-2214e0bb0ebc.png": {
     "image/png": "[encoded data removed]"
    },
    "c9257e33-db1c-4b4f-b5f3-f5d37ada1e29.png": {
     "image/png": "[encoded data removed]"
    }
   },
   "cell_type": "markdown",
   "id": "d3da338c-50e2-44c8-8757-53eb6ef2d5fa",
   "metadata": {},
   "source": [
    "##### Running a basic orbit test\n",
    "Running the test scripts from basilik-develop/examples  \n",
    "Docs: https://hanspeterschaub.info/basilisk/examples/scenarioBasicOrbit.html  \n",
    "![image.png](attachment:c9257e33-db1c-4b4f-b5f3-f5d37ada1e29.png)![image.png](attachment:964e43f9-4af1-4d8b-8390-2214e0bb0ebc.png)\n",
    "\n",
    "Example shows a spacecraft orbiting a celestial body. These plots collectively illustrate the motion of a spacecraft in orbit, highlighting its position, deviations from a reference trajectory, and orbital path."
   ]
  },
  {
   "cell_type": "markdown",
   "id": "a5331c71-d4d1-4b20-93fa-194f3fc12342",
   "metadata": {},
   "source": [
    "![Figure_1](Figures/Figure_1.png)  \n",
    "First plot represents the trajectory of the spacecraft in inertial space.  \n",
    "The three curves correspond to the spacecraft's position components in a 3D inertial coordinate frame.  \n",
    "![Figure_3](Figures/Figure_3.png)  \n",
    "This plot shows small deviations in the spacecraft's trajectory along the three inertial axes.\n",
    "These differences are typically the result of numerical errors, perturbations, or other forces acting on the spacecraft.  \n",
    "![Figure_2](Figures/Figure_2.png)  \n",
    "The green circle represents the celestial body.\n",
    "The red line corresponds to the spacecraft's orbit, while the dashed line represent a reference orbit for comparison."
   ]
  },
  {
   "cell_type": "markdown",
   "id": "1c410be7-fdc5-41ec-be78-b0ef3195c871",
   "metadata": {},
   "source": [
    "![Figure_1](Figures/Figure_1_GTO.png)\n",
    "![Figure_3](Figures/Figure_3_GTO.png)\n",
    "![Figure_2](Figures/Figure_2_GTO.png)"
   ]
  },
  {
   "cell_type": "markdown",
   "id": "f394522e-6eeb-4820-bfca-431db61cc3da",
   "metadata": {},
   "source": [
    "#### Training test with RLlib\n",
    "Still in Basilisk and Gyb env, but use the PPO algorithm."
   ]
  },
  {
   "cell_type": "code",
   "execution_count": null,
   "id": "67715a81-3984-4dd0-8ce1-9ce0abd39211",
   "metadata": {},
   "outputs": [],
   "source": [
    "# Initialize a PPO agent\n",
    "model = PPO(\n",
    "    policy=\"MlpPolicy\",  # Multi-layer perceptron policy\n",
    "    env=env,\n",
    "    verbose=1,\n",
    "    learning_rate=3e-4,\n",
    "    n_steps=1024,  # Number of steps per environment per update\n",
    "    batch_size=64,  # Mini-batch size\n",
    "    n_epochs=5,  # Number of epochs for optimization\n",
    "    gamma=0.99,  # Discount factor\n",
    "    gae_lambda=0.95,  # GAE parameter\n",
    "    clip_range=0.2,  # PPO clip parameter\n",
    "    ent_coef=0.01,  # Entropy coefficient for exploration\n",
    "    device='cpu' # explicitly set cpu usage based on docs\n",
    ")\n"
   ]
  },
  {
   "cell_type": "code",
   "execution_count": null,
   "id": "e890c86e-7589-462d-86c0-fb96818a4661",
   "metadata": {},
   "outputs": [],
   "source": [
    "# Train the agent\n",
    "total_timesteps = 1_000_000  # Adjust based on your needs\n",
    "model.learn(total_timesteps=total_timesteps)\n",
    "\n",
    "# Save the trained model\n",
    "model.save(\"bsk_rl_ppo_model\")"
   ]
  },
  {
   "cell_type": "markdown",
   "id": "e5c06dce",
   "metadata": {},
   "source": [
    "> ### Continue in Draft_2.0"
   ]
  }
 ],
 "metadata": {
  "kernelspec": {
   "display_name": "Python 3 (ipykernel)",
   "language": "python",
   "name": "python3"
  },
  "language_info": {
   "codemirror_mode": {
    "name": "ipython",
    "version": 3
   },
   "file_extension": ".py",
   "mimetype": "text/x-python",
   "name": "python",
   "nbconvert_exporter": "python",
   "pygments_lexer": "ipython3",
   "version": "3.10.10"
  }
 },
 "nbformat": 4,
 "nbformat_minor": 5
}
